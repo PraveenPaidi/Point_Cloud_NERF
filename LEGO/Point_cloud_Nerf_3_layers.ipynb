{
 "cells": [
  {
   "cell_type": "code",
   "execution_count": 34,
   "id": "50d31bc1",
   "metadata": {},
   "outputs": [],
   "source": [
    "import argparse\n",
    "import torch\n",
    "import numpy as np\n",
    "import torch.nn as nn\n",
    "import random\n",
    "import torch.nn.functional as F\n",
    "from matplotlib import pyplot as plt"
   ]
  },
  {
   "cell_type": "code",
   "execution_count": 67,
   "id": "3b16d030",
   "metadata": {},
   "outputs": [],
   "source": [
    "####################################################################################################################\n",
    "Parser = argparse.ArgumentParser()\n",
    "Parser.add_argument('--CheckPointPath', default=r'..\\LEGO')\n",
    "Parser.add_argument('--NumEpochs', type=int, default=1000)\n",
    "Parser.add_argument('--Nc', type=int, default=32)\n",
    "Parser.add_argument('--MiniBatchSize', type=int, default=4096, help='Size of the MiniBatch to use, Default:1')\n",
    "Parser.add_argument('--Nn', type=int, default=2)\n",
    "Parser.add_argument('--Nf',type=int, default=6)\n",
    "Ddata = np.load(r'../LEGO100.npz')  \n",
    "DNN_Depth = [Ddata[key] for key in Ddata]\n",
    "\n",
    "Args, _ = Parser.parse_known_args()\n",
    "CheckPointPath = Args.CheckPointPath\n",
    "epochs = Args.NumEpochs\n",
    "Nc = Args.Nc\n",
    "batch_size = Args.MiniBatchSize\n",
    "near_threshold = Args.Nn\n",
    "far_threshold = Args.Nf\n",
    "device = torch.device(\"cuda\" if torch.cuda.is_available() else \"cpu\")\n",
    "\n",
    "######################################################################################################################\n",
    "\n",
    "### npz file already contains the data of images, poses , foacl length of the train images dataset.\n",
    "def read_data(device):\n",
    "    data = np.load(\"../LEGO/tiny_nerf_data.npz\") #home/ppaidi/MV Project/LEGO/tiny_nerf_data.npz\n",
    "    images = data[\"images\"]    # home/ppaidi/MV Project/LEGO/Images_LEGO_400.npz\n",
    "    im_shape = images.shape\n",
    "    (num_images, H, W, _) = images.shape\n",
    "    poses = data[\"poses\"]\n",
    "    poses = torch.from_numpy(poses).to(device)\n",
    "    focal =  data[\"focal\"]\n",
    "    focal = torch.from_numpy(focal)\n",
    "    images = torch.from_numpy(images).to(device)\n",
    "    return images, poses, focal\n",
    "\n",
    "#######################################################################################################################\n",
    "\n",
    "\n",
    "def plot_figures(Epochs, log_loss):\n",
    "    plt.figure(figsize=(10, 4))\n",
    "    plt.plot(Epochs, log_loss)\n",
    "    plt.title(\"loss\")\n",
    "    # plt.show()0\n",
    "    plt.savefig(\"Results/Loss.png\")\n",
    "\n",
    "    #############################################\n",
    "\n",
    "images, poses, focal = read_data(device)\n",
    "height, width = images.shape[1:3]\n",
    "N_encode = 6\n",
    "lr = 5e-3\n",
    "########################################################################################################################"
   ]
  },
  {
   "cell_type": "code",
   "execution_count": 68,
   "id": "378b9edb",
   "metadata": {},
   "outputs": [],
   "source": [
    "class tNerf(nn.Module):\n",
    "\n",
    "    def __init__(self, filter_sz = 128, N_encode = 6):\n",
    "        super(tNerf, self).__init__()\n",
    "\n",
    "        self.layer1 = nn.Linear(3+3*2*N_encode, filter_sz)\n",
    "        self.layer2 = nn.Linear(filter_sz, filter_sz)\n",
    "        self.layer3 = nn.Linear(filter_sz, 4)\n",
    "        \n",
    "\n",
    "    def forward(self, x):\n",
    "        x = F.relu(self.layer1(x))\n",
    "        x = F.relu(self.layer2(x))\n",
    "        x = self.layer3(x)\n",
    "\n",
    "\n",
    "        return x\n"
   ]
  },
  {
   "cell_type": "code",
   "execution_count": 69,
   "id": "62d74153",
   "metadata": {},
   "outputs": [],
   "source": [
    "def get_rays(h, w, f, pose, near, far, Nc, device):\n",
    "\n",
    "    #making meshgrid of x and y shape \n",
    "    x = torch.linspace(0, w-1, w)\n",
    "    y = torch.linspace(0, h-1, h)\n",
    "    xi, yi = torch.meshgrid(x, y, indexing='xy')\n",
    "    xi = xi.to(device)\n",
    "    yi = yi.to(device)\n",
    "    \n",
    "    # normalized coordinates\n",
    "    norm_x = (xi - w * 0.5) / f\n",
    "    norm_y = (yi - h * 0.5) / f\n",
    "\n",
    "    #direction unit vectors matrix   USING colmap and considering z direction as -1 and combinign with x and y \n",
    "    directions = torch.stack([norm_x, - norm_y, -torch.ones_like(xi)], dim = -1)\n",
    "    directions = directions[..., None,:]   # this extra dimesnion is to suffice 4D array , with 3 points at 100, 100, 32 points.\n",
    "    \n",
    "\n",
    "    #camera matrix : 3x3 matrix from the 4x4 projection matrix from the pose matrix \n",
    "    rotation = pose[:3, :3]\n",
    "    translation = pose[:3, -1]\n",
    "\n",
    "    # converting the ray directions into the camera direction\n",
    "    camera_directions = directions * rotation\n",
    "    \n",
    "    # changing the dimesnions into 100, 100, 3 and normalizing \n",
    "    ray_directions = torch.sum(camera_directions, dim = -1)\n",
    "    ray_directions = ray_directions/torch.linalg.norm(ray_directions, dim = -1, keepdims = True)\n",
    "    ray_origins =  torch.broadcast_to(translation, ray_directions.shape)\n",
    "\n",
    "    #get the sample points HERE near and far are define NC th number of instances \n",
    "    depth_val = torch.linspace(near, far, Nc) \n",
    "    \n",
    "    # Adding the noise to the depth values \n",
    "    noise_shape = list(ray_origins.shape[:-1]) + [Nc]\n",
    "    noise = torch.rand(size = noise_shape) * (far - near)/Nc\n",
    "    \n",
    "    ## here the noise size is 100, 100, 32 and the depth_cal size is 32 , creating depth points at 100, 100, 32 \n",
    "    # by adding noise and from the start of the rays  \n",
    "    depth_val = depth_val + noise\n",
    "    depth_val = depth_val.to(device)\n",
    "    \n",
    "    ## creating the query points of 100, 100, 32, 4 in the direction of camera pose by muliplying with the ray directions.    \n",
    "    query_points = ray_origins[..., None, :] + ray_directions[..., None, :] * depth_val[..., :, None]\n",
    "    # print(query_points.shape)\n",
    "\n",
    "    return ray_directions, ray_origins, depth_val, query_points"
   ]
  },
  {
   "cell_type": "code",
   "execution_count": 70,
   "id": "6a966d8a",
   "metadata": {},
   "outputs": [],
   "source": [
    "def positional_encoding(x, L):\n",
    "    gamma = [x]\n",
    "    for i in range(L):\n",
    "        gamma.append(torch.sin((2.0**i) * x))\n",
    "        gamma.append(torch.cos((2.0**i) * x))\n",
    "    gamma = torch.cat(gamma, axis = -1)\n",
    "    return gamma\n",
    "\n",
    "\n",
    "def mini_batches(inputs, batch_size): \n",
    "    return [inputs[i:i + batch_size] for i in range(0, inputs.shape[0], batch_size)]"
   ]
  },
  {
   "cell_type": "code",
   "execution_count": 71,
   "id": "b380e3c8",
   "metadata": {},
   "outputs": [],
   "source": [
    "def render(radiance_field, ray_origins, depth_values):\n",
    "    \n",
    "    # radiance field is predictions of in RGB and Density \n",
    "    # ray origins are 100, 100, 3  with start points only\n",
    "    # Depth values is ditance value sof rays at 100, 100, 32\n",
    "    \n",
    "    #volume density\n",
    "    sigma_a = F.relu(radiance_field[...,3])    # output of this is 100, 100, 32      \n",
    "    \n",
    "    #color value at nth depth value\n",
    "    rgb = torch.sigmoid(radiance_field[...,:3])      # output of tis 100, 100, 32, 3\n",
    "    \n",
    "    # applying the formuale for the volume rendering\n",
    "    one_e_10 = torch.tensor([1e10], dtype = ray_origins.dtype, device = ray_origins.device)\n",
    "    \n",
    "    dists = torch.cat((depth_values[...,1:] - depth_values[...,:-1], one_e_10.expand(depth_values[...,:1].shape)), dim = -1)\n",
    "    \n",
    "    alpha = 1. - torch.exp(-sigma_a * dists) \n",
    "    \n",
    "    weights = alpha * cumprod_exclusive(1. - alpha + 1e-10)     #transmittance\n",
    "    \n",
    "    # getting the rgb map\n",
    "    rgb_map = (weights[..., None] * rgb).sum(dim = -2)          #resultant rgb color of n depth values\n",
    "    \n",
    "    # getting the depth map\n",
    "    depth_map = (weights * depth_values).sum(dim = -1)\n",
    "    \n",
    "    # getting the accuracy map \n",
    "    acc_map = weights.sum(-1)\n",
    "    \n",
    "    return rgb_map, depth_map, acc_map\n",
    "\n",
    "# To calculate the cumulative product used to calculate alpha\n",
    "def cumprod_exclusive(tensor) :\n",
    "    dim = -1\n",
    "    cumprod = torch.cumprod(tensor, dim)\n",
    "    cumprod = torch.roll(cumprod, 1, dim)\n",
    "    cumprod[..., 0] = 1.\n",
    "\n",
    "    return cumprod"
   ]
  },
  {
   "cell_type": "code",
   "execution_count": 72,
   "id": "3d27f327",
   "metadata": {},
   "outputs": [],
   "source": [
    "def training(h, w, f, pose, near, far, Nc, batch_size, N_encode, model, device):\n",
    "    \n",
    "    ## getting query points of 100, 100, 32, 3\n",
    "    ray_directions, ray_origins, depth_values, query_points = get_rays(h, w, f, pose, near, far, Nc, device)\n",
    "    \n",
    "    # flattening shape of 100, 100, 32 , 3 into 320000, 3\n",
    "    flat_query_pts = query_points.reshape((-1,3))\n",
    "      \n",
    "    #positional encoding combining 320000, 3 into sin and cosine waves and collecting agian, resulting 320000, 39\n",
    "    encoded_points = positional_encoding(flat_query_pts, N_encode)\n",
    "    \n",
    "    # taking in minibatches for the training into model\n",
    "    batches = mini_batches(encoded_points, batch_size = batch_size)\n",
    "    \n",
    "    ## every batch is of 4096, 39\n",
    "    predictions = []\n",
    "\n",
    "    ## training in batch \n",
    "    for batch in batches:  \n",
    "        predictions.append((model(batch)))\n",
    "#         print(model(batch).shape)\n",
    "     \n",
    "    ## output of the prediction and stacking them to make of original size and 320000, 4 : 4 is output size of model\n",
    "    radiance_field_flat = torch.cat(predictions, dim=0)\n",
    "    \n",
    "#     print(radiance_field_flat.shape)\n",
    "\n",
    "    # creating a list of elements 100, 100, 32 , 4 , not required this line , just to reshape the above prediction tensor \n",
    "    # into 100, 100, 32, 4 from 320000, 4 by creating a dummy \n",
    "    unflat_shape = list(query_points.shape[:-1]) + [4]\n",
    "    radiance_field = torch.reshape(radiance_field_flat, unflat_shape)\n",
    "    \n",
    "    ### columetric rendering \n",
    "    logits_rgb, _, D = render(radiance_field, ray_directions, depth_values)\n",
    "    \n",
    "    return logits_rgb, D"
   ]
  },
  {
   "cell_type": "code",
   "execution_count": 73,
   "id": "a57e2182",
   "metadata": {},
   "outputs": [],
   "source": [
    "def TrainOperation(images, poses, focal, height, width, lr, N_encode, epochs,\n",
    "                   near_threshold, far_threshold, batch_size, Nc, device,DNN_Depth):\n",
    "\n",
    "    model = tNerf()\n",
    "    model = model.to(device)\n",
    "    optimizer = torch.optim.Adam(model.parameters(), lr = lr)\n",
    "    Loss = []\n",
    "    Epochs = []\n",
    "    show_iter = 50\n",
    "    \n",
    "    for i in range(epochs):\n",
    "        \n",
    "        print(i)\n",
    "\n",
    "        img_idx = random.randint(0, images.shape[0]-7)\n",
    "\n",
    "        \n",
    "        from matplotlib import pyplot as plt\n",
    "\n",
    "        img = images[img_idx].to(device)\n",
    "        print(m(img))\n",
    "        pose = poses[img_idx].to(device)\n",
    "\n",
    "        rgb_logit,D = training(height, width, focal, pose, near_threshold, far_threshold, Nc, batch_size, N_encode, model, device)\n",
    "       \n",
    "        loss = F.mse_loss(rgb_logit, img) #photometric loss\n",
    "        \n",
    "        print(loss)\n",
    "        \n",
    "        loss = loss.to(torch.float)\n",
    "        \n",
    "            \n",
    "        # Loss2= F.mse_loss(torch.tensor(DNN_Depth[img_idx]), D)\n",
    "        # Loss2 = 0.1 *(Loss2)\n",
    "       \n",
    "        \n",
    "        if i % show_iter == 0:\n",
    "            print(\"Loss\", loss.item())\n",
    "        Loss.append(loss.item())\n",
    "        Epochs.append(i+1)\n",
    "\n",
    "        loss.backward()\n",
    "        optimizer.step()\n",
    "        optimizer.zero_grad()\n",
    "    print(Epochs)\n",
    "\n",
    "    plot_figures(Epochs, Loss)\n",
    "\n",
    "    SaveName =  '../LEGO/model3_lay.ckpt'\n",
    "\n",
    "    torch.save({'epoch': Epochs,\n",
    "          'model_state_dict': model.state_dict(),\n",
    "          'optimizer_state_dict': optimizer.state_dict()},\n",
    "            SaveName)  "
   ]
  },
  {
   "cell_type": "code",
   "execution_count": 74,
   "id": "1d705f23",
   "metadata": {},
   "outputs": [
    {
     "name": "stdout",
     "output_type": "stream",
     "text": [
      "0\n"
     ]
    },
    {
     "ename": "NameError",
     "evalue": "name 'm' is not defined",
     "output_type": "error",
     "traceback": [
      "\u001b[0;31m---------------------------------------------------------------------------\u001b[0m",
      "\u001b[0;31mNameError\u001b[0m                                 Traceback (most recent call last)",
      "Input \u001b[0;32mIn [74]\u001b[0m, in \u001b[0;36m<cell line: 1>\u001b[0;34m()\u001b[0m\n\u001b[0;32m----> 1\u001b[0m \u001b[43mTrainOperation\u001b[49m\u001b[43m(\u001b[49m\u001b[43mimages\u001b[49m\u001b[43m,\u001b[49m\u001b[43m \u001b[49m\u001b[43mposes\u001b[49m\u001b[43m,\u001b[49m\u001b[43m \u001b[49m\u001b[43mfocal\u001b[49m\u001b[43m,\u001b[49m\u001b[43m \u001b[49m\u001b[43mheight\u001b[49m\u001b[43m,\u001b[49m\u001b[43m \u001b[49m\u001b[43mwidth\u001b[49m\u001b[43m,\u001b[49m\u001b[43m \u001b[49m\u001b[43mlr\u001b[49m\u001b[43m,\u001b[49m\u001b[43m \u001b[49m\u001b[43mN_encode\u001b[49m\u001b[43m,\u001b[49m\u001b[43m \u001b[49m\u001b[43mepochs\u001b[49m\u001b[43m,\u001b[49m\u001b[43m \u001b[49m\u001b[43mnear_threshold\u001b[49m\u001b[43m,\u001b[49m\u001b[43m \u001b[49m\u001b[43mfar_threshold\u001b[49m\u001b[43m,\u001b[49m\u001b[43m \u001b[49m\u001b[43mbatch_size\u001b[49m\u001b[43m,\u001b[49m\u001b[43m \u001b[49m\u001b[43mNc\u001b[49m\u001b[43m,\u001b[49m\u001b[43m \u001b[49m\u001b[43mdevice\u001b[49m\u001b[43m,\u001b[49m\u001b[43mDNN_Depth\u001b[49m\u001b[43m)\u001b[49m\n",
      "Input \u001b[0;32mIn [73]\u001b[0m, in \u001b[0;36mTrainOperation\u001b[0;34m(images, poses, focal, height, width, lr, N_encode, epochs, near_threshold, far_threshold, batch_size, Nc, device, DNN_Depth)\u001b[0m\n\u001b[1;32m     18\u001b[0m \u001b[38;5;28;01mfrom\u001b[39;00m \u001b[38;5;21;01mmatplotlib\u001b[39;00m \u001b[38;5;28;01mimport\u001b[39;00m pyplot \u001b[38;5;28;01mas\u001b[39;00m plt\n\u001b[1;32m     20\u001b[0m img \u001b[38;5;241m=\u001b[39m images[img_idx]\u001b[38;5;241m.\u001b[39mto(device)\n\u001b[0;32m---> 21\u001b[0m \u001b[38;5;28mprint\u001b[39m(\u001b[43mm\u001b[49m(img))\n\u001b[1;32m     22\u001b[0m pose \u001b[38;5;241m=\u001b[39m poses[img_idx]\u001b[38;5;241m.\u001b[39mto(device)\n\u001b[1;32m     24\u001b[0m rgb_logit,D \u001b[38;5;241m=\u001b[39m training(height, width, focal, pose, near_threshold, far_threshold, Nc, batch_size, N_encode, model, device)\n",
      "\u001b[0;31mNameError\u001b[0m: name 'm' is not defined"
     ]
    }
   ],
   "source": [
    "TrainOperation(images, poses, focal, height, width, lr, N_encode, epochs, near_threshold, far_threshold, batch_size, Nc, device,DNN_Depth)"
   ]
  },
  {
   "cell_type": "code",
   "execution_count": null,
   "id": "32d6438d",
   "metadata": {},
   "outputs": [],
   "source": []
  },
  {
   "cell_type": "code",
   "execution_count": 75,
   "id": "2259b961",
   "metadata": {},
   "outputs": [],
   "source": [
    "img = images[1]"
   ]
  },
  {
   "cell_type": "code",
   "execution_count": 78,
   "id": "c44fe23f-1c98-4b8b-a349-791ac1e740cc",
   "metadata": {},
   "outputs": [],
   "source": [
    "flattened_img = img.flatten()\n",
    "\n",
    "# Find the maximum value and its index in the flattened tensor\n",
    "max_value, max_index = torch.min(flattened_img, dim=0)"
   ]
  },
  {
   "cell_type": "code",
   "execution_count": 79,
   "id": "dd22e221-0b3b-4526-acdc-5b54876f9957",
   "metadata": {},
   "outputs": [
    {
     "data": {
      "text/plain": [
       "tensor(0.)"
      ]
     },
     "execution_count": 79,
     "metadata": {},
     "output_type": "execute_result"
    }
   ],
   "source": [
    "max_value"
   ]
  },
  {
   "cell_type": "code",
   "execution_count": 80,
   "id": "397305f9-d452-4316-b681-f422100b2a6a",
   "metadata": {},
   "outputs": [
    {
     "name": "stdout",
     "output_type": "stream",
     "text": [
      "torch.float32\n"
     ]
    }
   ],
   "source": [
    "print(img.dtype)"
   ]
  },
  {
   "cell_type": "code",
   "execution_count": null,
   "id": "e292f70e-d247-496f-b01c-ca2bfbebd6b0",
   "metadata": {},
   "outputs": [],
   "source": []
  }
 ],
 "metadata": {
  "kernelspec": {
   "display_name": "Python 3 (ipykernel)",
   "language": "python",
   "name": "python3"
  },
  "language_info": {
   "codemirror_mode": {
    "name": "ipython",
    "version": 3
   },
   "file_extension": ".py",
   "mimetype": "text/x-python",
   "name": "python",
   "nbconvert_exporter": "python",
   "pygments_lexer": "ipython3",
   "version": "3.9.12"
  }
 },
 "nbformat": 4,
 "nbformat_minor": 5
}
